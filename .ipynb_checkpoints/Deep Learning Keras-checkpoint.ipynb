{
 "cells": [
  {
   "cell_type": "markdown",
   "metadata": {},
   "source": [
    "# Deep Learning Keras"
   ]
  },
  {
   "cell_type": "markdown",
   "metadata": {},
   "source": [
    "## Imports"
   ]
  },
  {
   "cell_type": "code",
   "execution_count": 4,
   "metadata": {},
   "outputs": [],
   "source": [
    "# importando o tensorflow e o keras\n",
    "import tensorflow\n",
    "from tensorflow import keras\n",
    "# Importando o matplotlib para plotar as imagens\n",
    "import matplotlib.pyplot as plt"
   ]
  },
  {
   "cell_type": "markdown",
   "metadata": {},
   "source": [
    "## Carregando o Dataset"
   ]
  },
  {
   "cell_type": "code",
   "execution_count": 7,
   "metadata": {},
   "outputs": [],
   "source": [
    "# Acessar dataset disponivel dentro do keras\n",
    "# O dataset contem 70 mil imagens, portanto 60 mil é de treino e 10 mil é de teste\n",
    "dataset = keras.datasets.fashion_mnist"
   ]
  },
  {
   "cell_type": "code",
   "execution_count": 8,
   "metadata": {},
   "outputs": [],
   "source": [
    "# Carregar o dataset\n",
    "# Ao carregar o DataSet, o retorno é duas tuplas, onde a primeira contem imagens e identificações de treino (x,y)\n",
    "# e o segundo contem imagens e identificações de teste (x,y)\n",
    "((imagens_treino, identificacoes_treino),(imagens_teste, identificacoes_teste)) = dataset.load_data()"
   ]
  },
  {
   "cell_type": "markdown",
   "metadata": {},
   "source": [
    "## Exploração dos dados"
   ]
  },
  {
   "cell_type": "code",
   "execution_count": 9,
   "metadata": {},
   "outputs": [
    {
     "data": {
      "text/plain": [
       "(60000, 28, 28)"
      ]
     },
     "execution_count": 9,
     "metadata": {},
     "output_type": "execute_result"
    }
   ],
   "source": [
    "# Podemos analisar a dimensão do nosso array com o shape\n",
    "# Formato do array\n",
    "# Temos 60000 registro de array de 28 linhas 28 coluna\n",
    "imagens_treino.shape"
   ]
  },
  {
   "cell_type": "code",
   "execution_count": 10,
   "metadata": {},
   "outputs": [
    {
     "data": {
      "text/plain": [
       "(10000, 28, 28)"
      ]
     },
     "execution_count": 10,
     "metadata": {},
     "output_type": "execute_result"
    }
   ],
   "source": [
    "# Temos 10000 registro de array de 28 linhas 28 coluna\n",
    "# Imagens de treino\n",
    "imagens_teste.shape"
   ]
  },
  {
   "cell_type": "code",
   "execution_count": 11,
   "metadata": {},
   "outputs": [
    {
     "name": "stdout",
     "output_type": "stream",
     "text": [
      "Labels de treino:  60000 Labels de Teste:  10000\n"
     ]
    }
   ],
   "source": [
    "print('Labels de treino: ', len(identificacoes_treino),'Labels de Teste: ', len(identificacoes_teste))"
   ]
  },
  {
   "cell_type": "code",
   "execution_count": 12,
   "metadata": {},
   "outputs": [
    {
     "data": {
      "text/plain": [
       "0"
      ]
     },
     "execution_count": 12,
     "metadata": {},
     "output_type": "execute_result"
    }
   ],
   "source": [
    "# A identificação minima \n",
    "identificacoes_treino.min()"
   ]
  },
  {
   "cell_type": "code",
   "execution_count": 13,
   "metadata": {},
   "outputs": [
    {
     "data": {
      "text/plain": [
       "9"
      ]
     },
     "execution_count": 13,
     "metadata": {},
     "output_type": "execute_result"
    }
   ],
   "source": [
    "# A identificação maxima\n",
    "identificacoes_treino.max()"
   ]
  },
  {
   "cell_type": "markdown",
   "metadata": {},
   "source": [
    "## Exibição dos dados"
   ]
  },
  {
   "cell_type": "code",
   "execution_count": 14,
   "metadata": {},
   "outputs": [],
   "source": [
    "total_de_classificadores = 10\n",
    "# Mapear os classificadores de 0 a 9 por nomes\n",
    "# https://github.com/zalandoresearch/fashion-mnist\n",
    "nomes_de_classificadores = ['Camiseta', 'Calça', 'Pullover', 'Vestido', \n",
    "                            'Casaco', 'Sandalia', 'Camisa', 'Tenis', 'Bolsa', 'Bota']"
   ]
  },
  {
   "cell_type": "code",
   "execution_count": 15,
   "metadata": {},
   "outputs": [
    {
     "data": {
      "image/png": "[encoded data removed]",
      "text/plain": [
       "<Figure size 432x288 with 10 Axes>"
      ]
     },
     "metadata": {
      "needs_background": "light"
     },
     "output_type": "display_data"
    }
   ],
   "source": [
    "for imagem in range(10):\n",
    "#     Configurando o sub plot para exibir 2 linha e 5 colunas de imagens\n",
    "    plt.subplot(2,5,imagem+1)\n",
    "    # Platando a primeira imagem de index[0]\n",
    "    plt.imshow(imagens_treino[imagem])\n",
    "    # Adicionando um titulo a img\n",
    "    plt.title(nomes_de_classificadores[identificacoes_treino[imagem]])\n"
   ]
  },
  {
   "cell_type": "markdown",
   "metadata": {},
   "source": [
    "Link para scipy img, lib para manipular imagens\n",
    "http://scipy-lectures.org/advanced/image_processing/"
   ]
  },
  {
   "cell_type": "code",
   "execution_count": 17,
   "metadata": {},
   "outputs": [
    {
     "name": "stdout",
     "output_type": "stream",
     "text": [
      "60000/60000 [==============================] - 8s 142us/sample - loss: 14.5078\n"
     ]
    },
    {
     "data": {
      "text/plain": [
       "<tensorflow.python.keras.callbacks.History at 0x7f75661bba90>"
      ]
     },
     "execution_count": 17,
     "metadata": {},
     "output_type": "execute_result"
    }
   ],
   "source": [
    "# Camadas do modelo\n",
    "# modelo sequencial\n",
    "#     entrada\n",
    "#     processamento\n",
    "#     saida\n",
    "\n",
    "# Definindo um modelo sequencial, onde temos a entrada, processamento e saida dos dados\n",
    "modelo = keras.Sequential([\n",
    "#   Camanda de entrada\n",
    "#   Na priemira camada, vamos pegar as imagens de 28x28 e achatar para um unico array de 784(28x28) posições\n",
    "    keras.layers.Flatten(input_shape = (28,28)),\n",
    "#   Camada de processamento\n",
    "#   Criando 256 camandas \"bolinhas\" que vão ser densar e comunicar com a camada de Flatten, ou seja\n",
    "#   a camada com a imagem em um unico array de pixels\n",
    "#   Alem de termos 256(Recomendado multiplos de 2. Temos que testar o que é melhor para o que queremos)\n",
    "#   pequenos tensores, temos dizer quando eles vão ser ativados, \n",
    "#   que é o relu, uma ativação de redes mais utilizada na comunidade\n",
    "#   A reLU é uma função não linear que pensando em um grafico, ela não utiliza linhas e sim grande areas\n",
    "#   reLU = Unidade linear retificada\n",
    "    keras.layers.Dense(256, activation=tensorflow.nn.relu),\n",
    "#   Camada de Saida\n",
    "#   O numero da camada de saída é a quantidade de classificações que o modelo vai conter\n",
    "#   O softmax é uma função que extrai da imagem probabilidades em % de todas outras imagens \n",
    "    keras.layers.Dense(10, activation=tensorflow.nn.softmax)\n",
    "])\n",
    "\n",
    "#Compinando o modelo antes de treinar\n",
    "modelo.compile(\n",
    "    # Otimizador de treinamento da rede\n",
    "    optimizer='adam',\n",
    "    # Perda de informação da rede. Se a rede classificar um item errado, ela vai ter uma perda de informação\n",
    "    # para calcular a perda, vamos utilizar a \"entropia categorica cruzada esparsa\" \n",
    "    loss='sparse_categorical_crossentropy')\n",
    "\n",
    "# Treinando um modelo\n",
    "modelo.fit(imagens_treino, identificacoes_treino)"
   ]
  },
  {
   "cell_type": "markdown",
   "metadata": {},
   "source": [
    "### Exemplo de comunicação das camandas feita pela camada Dense\n",
    "<img src=\"./dense.png\">"
   ]
  },
  {
   "cell_type": "markdown",
   "metadata": {},
   "source": [
    "### Exemplo do funcionamento da reLU\n",
    "<img src=\"./relu.png\">"
   ]
  },
  {
   "cell_type": "code",
   "execution_count": null,
   "metadata": {},
   "outputs": [],
   "source": []
  }
 ],
 "metadata": {
  "kernelspec": {
   "display_name": "Python 3",
   "language": "python",
   "name": "python3"
  },
  "language_info": {
   "codemirror_mode": {
    "name": "ipython",
    "version": 3
   },
   "file_extension": ".py",
   "mimetype": "text/x-python",
   "name": "python",
   "nbconvert_exporter": "python",
   "pygments_lexer": "ipython3",
   "version": "3.7.3"
  }
 },
 "nbformat": 4,
 "nbformat_minor": 2
}
