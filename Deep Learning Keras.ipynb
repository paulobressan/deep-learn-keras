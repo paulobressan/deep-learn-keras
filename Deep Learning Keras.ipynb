{
 "cells": [
  {
   "cell_type": "markdown",
   "metadata": {},
   "source": [
    "# Deep Learning Keras"
   ]
  },
  {
   "cell_type": "markdown",
   "metadata": {},
   "source": [
    "## Imports"
   ]
  },
  {
   "cell_type": "code",
   "execution_count": 21,
   "metadata": {},
   "outputs": [],
   "source": [
    "# importando o tensorflow e o keras\n",
    "import tensorflow\n",
    "from tensorflow import keras\n",
    "from tensorflow.keras.models import load_model\n",
    "# Importando o matplotlib para plotar as imagens\n",
    "import matplotlib.pyplot as plt\n",
    "\n",
    "import numpy as np"
   ]
  },
  {
   "cell_type": "markdown",
   "metadata": {},
   "source": [
    "## Carregando o Dataset"
   ]
  },
  {
   "cell_type": "code",
   "execution_count": 2,
   "metadata": {},
   "outputs": [],
   "source": [
    "# Acessar dataset disponivel dentro do keras\n",
    "# O dataset contem 70 mil imagens, portanto 60 mil é de treino e 10 mil é de teste\n",
    "dataset = keras.datasets.fashion_mnist"
   ]
  },
  {
   "cell_type": "code",
   "execution_count": 3,
   "metadata": {},
   "outputs": [],
   "source": [
    "# Carregar o dataset\n",
    "# Ao carregar o DataSet, o retorno é duas tuplas, onde a primeira contem imagens e identificações de treino (x,y)\n",
    "# e o segundo contem imagens e identificações de teste (x,y)\n",
    "((imagens_treino, identificacoes_treino),(imagens_teste, identificacoes_teste)) = dataset.load_data()"
   ]
  },
  {
   "cell_type": "markdown",
   "metadata": {},
   "source": [
    "## Exploração dos dados"
   ]
  },
  {
   "cell_type": "code",
   "execution_count": 4,
   "metadata": {},
   "outputs": [
    {
     "data": {
      "text/plain": [
       "(60000, 28, 28)"
      ]
     },
     "execution_count": 4,
     "metadata": {},
     "output_type": "execute_result"
    }
   ],
   "source": [
    "# Podemos analisar a dimensão do nosso array com o shape\n",
    "# Formato do array\n",
    "# Temos 60000 registro de array de 28 linhas 28 coluna\n",
    "imagens_treino.shape"
   ]
  },
  {
   "cell_type": "code",
   "execution_count": 5,
   "metadata": {},
   "outputs": [
    {
     "data": {
      "text/plain": [
       "(10000, 28, 28)"
      ]
     },
     "execution_count": 5,
     "metadata": {},
     "output_type": "execute_result"
    }
   ],
   "source": [
    "# Temos 10000 registro de array de 28 linhas 28 coluna\n",
    "# Imagens de treino\n",
    "imagens_teste.shape"
   ]
  },
  {
   "cell_type": "code",
   "execution_count": 6,
   "metadata": {},
   "outputs": [
    {
     "name": "stdout",
     "output_type": "stream",
     "text": [
      "Labels de treino:  60000 Labels de Teste:  10000\n"
     ]
    }
   ],
   "source": [
    "print('Labels de treino: ', len(identificacoes_treino),'Labels de Teste: ', len(identificacoes_teste))"
   ]
  },
  {
   "cell_type": "code",
   "execution_count": 7,
   "metadata": {},
   "outputs": [
    {
     "data": {
      "text/plain": [
       "0"
      ]
     },
     "execution_count": 7,
     "metadata": {},
     "output_type": "execute_result"
    }
   ],
   "source": [
    "# A identificação minima \n",
    "identificacoes_treino.min()"
   ]
  },
  {
   "cell_type": "code",
   "execution_count": 8,
   "metadata": {},
   "outputs": [
    {
     "data": {
      "text/plain": [
       "9"
      ]
     },
     "execution_count": 8,
     "metadata": {},
     "output_type": "execute_result"
    }
   ],
   "source": [
    "# A identificação maxima\n",
    "identificacoes_treino.max()"
   ]
  },
  {
   "cell_type": "markdown",
   "metadata": {},
   "source": [
    "## Exibição dos dados"
   ]
  },
  {
   "cell_type": "code",
   "execution_count": 9,
   "metadata": {},
   "outputs": [],
   "source": [
    "total_de_classificadores = 10\n",
    "# Mapear os classificadores de 0 a 9 por nomes\n",
    "# https://github.com/zalandoresearch/fashion-mnist\n",
    "nomes_de_classificadores = ['Camiseta', 'Calça', 'Pullover', 'Vestido', \n",
    "                            'Casaco', 'Sandalia', 'Camisa', 'Tenis', 'Bolsa', 'Bota']"
   ]
  },
  {
   "cell_type": "code",
   "execution_count": 10,
   "metadata": {},
   "outputs": [
    {
     "data": {
      "text/plain": [
       "<matplotlib.colorbar.Colorbar at 0x7f429ffbd240>"
      ]
     },
     "execution_count": 10,
     "metadata": {},
     "output_type": "execute_result"
    },
    {
     "data": {
      "image/png": "[encoded data removed]",
      "text/plain": [
       "<Figure size 432x288 with 2 Axes>"
      ]
     },
     "metadata": {
      "needs_background": "light"
     },
     "output_type": "display_data"
    }
   ],
   "source": [
    "'''\n",
    "for imagem in range(10):\n",
    "#     Configurando o sub plot para exibir 2 linha e 5 colunas de imagens\n",
    "    plt.subplot(2,5,imagem+1)\n",
    "    # Platando a primeira imagem de index[0]\n",
    "    plt.imshow(imagens_treino[imagem])\n",
    "    # Adicionando um titulo a img\n",
    "    plt.title(nomes_de_classificadores[identificacoes_treino[imagem]])\n",
    "'''\n",
    "\n",
    "# Podemos plotar uma barra de cores para identificar a gradação das cores\n",
    "plt.imshow(imagens_treino[0])\n",
    "plt.colorbar()"
   ]
  },
  {
   "cell_type": "markdown",
   "metadata": {},
   "source": [
    "Link para scipy img, lib para manipular imagens\n",
    "http://scipy-lectures.org/advanced/image_processing/"
   ]
  },
  {
   "cell_type": "code",
   "execution_count": 16,
   "metadata": {},
   "outputs": [
    {
     "name": "stdout",
     "output_type": "stream",
     "text": [
      "WARNING:tensorflow:From /home/paulobressan/.conda/envs/deep-learn/lib/python3.7/site-packages/tensorflow/python/keras/layers/core.py:143: calling dropout (from tensorflow.python.ops.nn_ops) with keep_prob is deprecated and will be removed in a future version.\n",
      "Instructions for updating:\n",
      "Please use `rate` instead of `keep_prob`. Rate should be set to `rate = 1 - keep_prob`.\n",
      "Train on 48000 samples, validate on 12000 samples\n",
      "Epoch 1/5\n",
      "48000/48000 [==============================] - 9s 184us/sample - loss: 1.1175 - acc: 0.6377 - val_loss: 0.7123 - val_acc: 0.7437\n",
      "Epoch 2/5\n",
      "48000/48000 [==============================] - 8s 167us/sample - loss: 0.6693 - acc: 0.7564 - val_loss: 0.5992 - val_acc: 0.7818\n",
      "Epoch 3/5\n",
      "48000/48000 [==============================] - 7s 156us/sample - loss: 0.5896 - acc: 0.7853 - val_loss: 0.5448 - val_acc: 0.7987\n",
      "Epoch 4/5\n",
      "48000/48000 [==============================] - 8s 161us/sample - loss: 0.5451 - acc: 0.8047 - val_loss: 0.5132 - val_acc: 0.8151\n",
      "Epoch 5/5\n",
      "48000/48000 [==============================] - 8s 175us/sample - loss: 0.5140 - acc: 0.8168 - val_loss: 0.4906 - val_acc: 0.8234\n"
     ]
    }
   ],
   "source": [
    "# Camadas do modelo\n",
    "# modelo sequencial\n",
    "#     entrada\n",
    "#     processamento\n",
    "#     saida\n",
    "\n",
    "# NORMALIZAÇÃO DAS IMAGENS\n",
    "# Dimunindo o processamento de pixels de 255 para 0 a 1. A rede não precisa processar 255 pixels e sim de 0 a 1 \n",
    "# com suas diferença, ou seja, 0.10, 0.30,1, etc\n",
    "imagens_treino = imagens_treino / float(255)\n",
    "\n",
    "# Definindo um modelo sequencial, onde temos a entrada, processamento e saida dos dados\n",
    "modelo = keras.Sequential([\n",
    "#   Camanda de entrada\n",
    "#   Na priemira camada, vamos pegar as imagens de 28x28 e achatar para um unico array de 784(28x28) posições\n",
    "    keras.layers.Flatten(input_shape = (28,28)),\n",
    "#   CAMADAS OCULTAS, porque não é possivel saber o que esta acontencendo para realizar o agrupamento \n",
    "#   dos neuronios.\n",
    "#   Camada de processamento\n",
    "#   Criando 256 camandas \"bolinhas\" que vão ser densar e comunicar com a camada de Flatten, ou seja\n",
    "#   a camada com a imagem em um unico array de pixels\n",
    "#   Alem de termos 256(Recomendado multiplos de 2. Temos que testar o que é melhor para o que queremos)\n",
    "#   pequenos tensores, temos dizer quando eles vão ser ativados, \n",
    "#   que é o relu, uma ativação de redes mais utilizada na comunidade\n",
    "#   reLU = Unidade linear retificada\n",
    "#   AS CAMADAS OCULTAS TEM QUE SER TESTADA PARA CHEGAR NA MENOR PERDA(LOSS)\n",
    "#   A EXECUÇÃO DA COMPILAÇÃO ARMAZENA ALGUMAS VARIAVEIS DE ESTADO DO MODELO E O JUPYTER TAMBEM ARMAZEMA\n",
    "#   O QUE FAZ COM QUE O MODELO GERE SEMPRE O MESMO RESULTADO, PARA ISSO TEMOS QUE RESTARTAR O NOTEBOOK\n",
    "    keras.layers.Dense(256, activation=tensorflow.nn.relu),\n",
    "#     keras.layers.Dense(128, activation=tensorflow.nn.relu),\n",
    "#     keras.layers.Dense(64, activation=tensorflow.nn.relu),\n",
    "#   O dropout mantem 20% das camadas adormecidas para que a rede não fique muito \"viciada\" com muitas informações\n",
    "    keras.layers.Dropout(0.2),\n",
    "#   Camada de Saida\n",
    "#   O numero da camada de saída é a quantidade de classificações que o modelo vai conter\n",
    "#   O softmax é uma função que extrai da imagem probabilidades em % de todas outras imagens \n",
    "    keras.layers.Dense(10, activation=tensorflow.nn.softmax)\n",
    "])\n",
    "\n",
    "#Compinando o modelo antes de treinar\n",
    "modelo.compile(\n",
    "    # Otimizador de treinamento da rede\n",
    "    optimizer='adam',\n",
    "    # Perda de informação da rede. Se a rede classificar um item errado, ela vai ter uma perda de informação\n",
    "    # para calcular a perda, vamos utilizar a \"entropia categorica cruzada esparsa\" \n",
    "    loss='sparse_categorical_crossentropy',\n",
    "    # Adicionando métricas para identificar o quanto o modelo esta acertando\n",
    "    metrics=['accuracy'])\n",
    "\n",
    "# Treinando um modelo\n",
    "# epoch é a quantidade de vezes que o modelo vai ser treinado\n",
    "# validation_split é a quantidade de registro que vamos usar para validar o desempenho, 0.2 = 20%\n",
    "historico = modelo.fit(imagens_treino, identificacoes_treino, epochs=5, validation_split=0.2)"
   ]
  },
  {
   "cell_type": "code",
   "execution_count": 17,
   "metadata": {},
   "outputs": [
    {
     "data": {
      "text/plain": [
       "<matplotlib.legend.Legend at 0x7f4226be50b8>"
      ]
     },
     "execution_count": 17,
     "metadata": {},
     "output_type": "execute_result"
    },
    {
     "data": {
      "image/png": "[encoded data removed]",
      "text/plain": [
       "<Figure size 432x288 with 1 Axes>"
      ]
     },
     "metadata": {
      "needs_background": "light"
     },
     "output_type": "display_data"
    }
   ],
   "source": [
    "# Salvamos o historico de treinamento do modelo para plotar um grafico com os resultados\n",
    "# PLOTANDO GRAFICO DE DESEMPENHO DO MODELO\n",
    "# Plotando dois array de dados\n",
    "plt.plot(historico.history['acc'])\n",
    "plt.plot(historico.history['val_acc'])\n",
    "# Configurando titulo do grafico\n",
    "plt.title('Acuracia por epocas')\n",
    "# label do eixo x\n",
    "plt.xlabel('epochs')\n",
    "# label do eixo y\n",
    "plt.ylabel('accuracy')\n",
    "# Adicionando legendas\n",
    "plt.legend(['treino', 'validação'])"
   ]
  },
  {
   "cell_type": "code",
   "execution_count": 18,
   "metadata": {},
   "outputs": [
    {
     "data": {
      "text/plain": [
       "<matplotlib.legend.Legend at 0x7f4226b52cf8>"
      ]
     },
     "execution_count": 18,
     "metadata": {},
     "output_type": "execute_result"
    },
    {
     "data": {
      "image/png": "[encoded data removed]",
      "text/plain": [
       "<Figure size 432x288 with 1 Axes>"
      ]
     },
     "metadata": {
      "needs_background": "light"
     },
     "output_type": "display_data"
    }
   ],
   "source": [
    "# PLOTANDO GRAFICO DE PERDA DO MODELO\n",
    "# Plotando dois array de dados\n",
    "plt.plot(historico.history['loss'])\n",
    "plt.plot(historico.history['val_loss'])\n",
    "# Configurando titulo do grafico\n",
    "plt.title('Perda por epocas')\n",
    "# label do eixo x\n",
    "plt.xlabel('epochs')\n",
    "# label do eixo y\n",
    "plt.ylabel('loss')\n",
    "# Adicionando legendas\n",
    "plt.legend(['treino', 'validação'])"
   ]
  },
  {
   "cell_type": "code",
   "execution_count": 31,
   "metadata": {},
   "outputs": [],
   "source": [
    "# Salvando e carregando o modelo\n",
    "modelo.save('modelo_epochs5_nos4.h5')\n",
    "\n",
    "modelo_salvo = load_model('modelo_epochs5_nos4.h5')"
   ]
  },
  {
   "cell_type": "markdown",
   "metadata": {},
   "source": [
    "### Exemplo de comunicação das camandas feita pela camada Dense\n",
    "<img src=\"./dense.png\">"
   ]
  },
  {
   "cell_type": "markdown",
   "metadata": {},
   "source": [
    "### Exemplo do funcionamento da reLU\n",
    "<img src=\"./relu.png\">"
   ]
  },
  {
   "cell_type": "code",
   "execution_count": 30,
   "metadata": {},
   "outputs": [
    {
     "name": "stdout",
     "output_type": "stream",
     "text": [
      "Resultado teste: 2\n",
      "numero da imagem de teste: 2\n",
      "Resultado teste modelo salvo: 2\n",
      "numero da imagem de teste modelo salvo: 2\n"
     ]
    }
   ],
   "source": [
    "# Realizando predições no modelo\n",
    "testes = modelo.predict(imagens_teste)\n",
    "\n",
    "print('Resultado teste:', np.argmax(testes[1]))\n",
    "print('numero da imagem de teste:', identificacoes_teste[1])\n",
    "\n",
    "testes = modelo_salvo.predict(imagens_teste)\n",
    "\n",
    "print('Resultado teste modelo salvo:', np.argmax(testes[1]))\n",
    "print('numero da imagem de teste modelo salvo:', identificacoes_teste[1])"
   ]
  },
  {
   "cell_type": "code",
   "execution_count": 15,
   "metadata": {},
   "outputs": [
    {
     "name": "stdout",
     "output_type": "stream",
     "text": [
      "10000/10000 [==============================] - 1s 63us/sample - loss: 2.0904 - acc: 0.8683\n",
      "Perda do teste: 2.090373865699762\n",
      "Acuracia do teste: 0.8683\n"
     ]
    }
   ],
   "source": [
    "# Avaliar o desempenho do modelo\n",
    "# O evaluate retornaum array com 2 posição onde a primeira é a perda do array e a segunda a acuracia\n",
    "perda_teste, acuracia_teste = modelo.evaluate(imagens_teste, identificacoes_teste)\n",
    "print('Perda do teste:', perda_teste)\n",
    "print('Acuracia do teste:', acuracia_teste)"
   ]
  },
  {
   "cell_type": "code",
   "execution_count": null,
   "metadata": {},
   "outputs": [],
   "source": []
  }
 ],
 "metadata": {
  "kernelspec": {
   "display_name": "Python 3",
   "language": "python",
   "name": "python3"
  },
  "language_info": {
   "codemirror_mode": {
    "name": "ipython",
    "version": 3
   },
   "file_extension": ".py",
   "mimetype": "text/x-python",
   "name": "python",
   "nbconvert_exporter": "python",
   "pygments_lexer": "ipython3",
   "version": "3.7.3"
  }
 },
 "nbformat": 4,
 "nbformat_minor": 2
}
