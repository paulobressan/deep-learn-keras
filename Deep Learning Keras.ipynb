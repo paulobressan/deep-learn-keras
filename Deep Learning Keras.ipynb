{
 "cells": [
  {
   "cell_type": "markdown",
   "metadata": {},
   "source": [
    "# Deep Learning Keras"
   ]
  },
  {
   "cell_type": "markdown",
   "metadata": {},
   "source": [
    "## Imports"
   ]
  },
  {
   "cell_type": "code",
   "execution_count": 1,
   "metadata": {},
   "outputs": [],
   "source": [
    "# importando o tensorflow e o keras\n",
    "import tensorflow\n",
    "from tensorflow import keras\n",
    "# Importando o matplotlib para plotar as imagens\n",
    "import matplotlib.pyplot as plt\n",
    "\n",
    "import numpy as np"
   ]
  },
  {
   "cell_type": "markdown",
   "metadata": {},
   "source": [
    "## Carregando o Dataset"
   ]
  },
  {
   "cell_type": "code",
   "execution_count": 2,
   "metadata": {},
   "outputs": [],
   "source": [
    "# Acessar dataset disponivel dentro do keras\n",
    "# O dataset contem 70 mil imagens, portanto 60 mil é de treino e 10 mil é de teste\n",
    "dataset = keras.datasets.fashion_mnist"
   ]
  },
  {
   "cell_type": "code",
   "execution_count": 3,
   "metadata": {},
   "outputs": [],
   "source": [
    "# Carregar o dataset\n",
    "# Ao carregar o DataSet, o retorno é duas tuplas, onde a primeira contem imagens e identificações de treino (x,y)\n",
    "# e o segundo contem imagens e identificações de teste (x,y)\n",
    "((imagens_treino, identificacoes_treino),(imagens_teste, identificacoes_teste)) = dataset.load_data()"
   ]
  },
  {
   "cell_type": "markdown",
   "metadata": {},
   "source": [
    "## Exploração dos dados"
   ]
  },
  {
   "cell_type": "code",
   "execution_count": 4,
   "metadata": {},
   "outputs": [
    {
     "data": {
      "text/plain": [
       "(60000, 28, 28)"
      ]
     },
     "execution_count": 4,
     "metadata": {},
     "output_type": "execute_result"
    }
   ],
   "source": [
    "# Podemos analisar a dimensão do nosso array com o shape\n",
    "# Formato do array\n",
    "# Temos 60000 registro de array de 28 linhas 28 coluna\n",
    "imagens_treino.shape"
   ]
  },
  {
   "cell_type": "code",
   "execution_count": 5,
   "metadata": {},
   "outputs": [
    {
     "data": {
      "text/plain": [
       "(10000, 28, 28)"
      ]
     },
     "execution_count": 5,
     "metadata": {},
     "output_type": "execute_result"
    }
   ],
   "source": [
    "# Temos 10000 registro de array de 28 linhas 28 coluna\n",
    "# Imagens de treino\n",
    "imagens_teste.shape"
   ]
  },
  {
   "cell_type": "code",
   "execution_count": 6,
   "metadata": {},
   "outputs": [
    {
     "name": "stdout",
     "output_type": "stream",
     "text": [
      "Labels de treino:  60000 Labels de Teste:  10000\n"
     ]
    }
   ],
   "source": [
    "print('Labels de treino: ', len(identificacoes_treino),'Labels de Teste: ', len(identificacoes_teste))"
   ]
  },
  {
   "cell_type": "code",
   "execution_count": 7,
   "metadata": {},
   "outputs": [
    {
     "data": {
      "text/plain": [
       "0"
      ]
     },
     "execution_count": 7,
     "metadata": {},
     "output_type": "execute_result"
    }
   ],
   "source": [
    "# A identificação minima \n",
    "identificacoes_treino.min()"
   ]
  },
  {
   "cell_type": "code",
   "execution_count": 8,
   "metadata": {},
   "outputs": [
    {
     "data": {
      "text/plain": [
       "9"
      ]
     },
     "execution_count": 8,
     "metadata": {},
     "output_type": "execute_result"
    }
   ],
   "source": [
    "# A identificação maxima\n",
    "identificacoes_treino.max()"
   ]
  },
  {
   "cell_type": "markdown",
   "metadata": {},
   "source": [
    "## Exibição dos dados"
   ]
  },
  {
   "cell_type": "code",
   "execution_count": 9,
   "metadata": {},
   "outputs": [],
   "source": [
    "total_de_classificadores = 10\n",
    "# Mapear os classificadores de 0 a 9 por nomes\n",
    "# https://github.com/zalandoresearch/fashion-mnist\n",
    "nomes_de_classificadores = ['Camiseta', 'Calça', 'Pullover', 'Vestido', \n",
    "                            'Casaco', 'Sandalia', 'Camisa', 'Tenis', 'Bolsa', 'Bota']"
   ]
  },
  {
   "cell_type": "code",
   "execution_count": 10,
   "metadata": {},
   "outputs": [
    {
     "data": {
      "text/plain": [
       "<matplotlib.colorbar.Colorbar at 0x7f7b98019c18>"
      ]
     },
     "execution_count": 10,
     "metadata": {},
     "output_type": "execute_result"
    },
    {
     "data": {
      "image/png": "[encoded data removed]",
      "text/plain": [
       "<Figure size 432x288 with 2 Axes>"
      ]
     },
     "metadata": {
      "needs_background": "light"
     },
     "output_type": "display_data"
    }
   ],
   "source": [
    "'''\n",
    "for imagem in range(10):\n",
    "#     Configurando o sub plot para exibir 2 linha e 5 colunas de imagens\n",
    "    plt.subplot(2,5,imagem+1)\n",
    "    # Platando a primeira imagem de index[0]\n",
    "    plt.imshow(imagens_treino[imagem])\n",
    "    # Adicionando um titulo a img\n",
    "    plt.title(nomes_de_classificadores[identificacoes_treino[imagem]])\n",
    "'''\n",
    "\n",
    "# Podemos plotar uma barra de cores para identificar a gradação das cores\n",
    "plt.imshow(imagens_treino[0])\n",
    "plt.colorbar()"
   ]
  },
  {
   "cell_type": "markdown",
   "metadata": {},
   "source": [
    "Link para scipy img, lib para manipular imagens\n",
    "http://scipy-lectures.org/advanced/image_processing/"
   ]
  },
  {
   "cell_type": "code",
   "execution_count": 27,
   "metadata": {},
   "outputs": [
    {
     "name": "stdout",
     "output_type": "stream",
     "text": [
      "Train on 48000 samples, validate on 12000 samples\n",
      "Epoch 1/10\n",
      "48000/48000 [==============================] - 9s 192us/sample - loss: 2.3028 - acc: 0.1005 - val_loss: 2.3026 - val_acc: 0.0983\n",
      "Epoch 2/10\n",
      "48000/48000 [==============================] - 9s 194us/sample - loss: 2.3022 - acc: 0.1017 - val_loss: 2.3017 - val_acc: 0.1003\n",
      "Epoch 3/10\n",
      "48000/48000 [==============================] - 8s 168us/sample - loss: 2.3009 - acc: 0.1146 - val_loss: 2.2998 - val_acc: 0.1942\n",
      "Epoch 4/10\n",
      "48000/48000 [==============================] - 8s 161us/sample - loss: 2.2979 - acc: 0.1571 - val_loss: 2.2958 - val_acc: 0.1217\n",
      "Epoch 5/10\n",
      "48000/48000 [==============================] - 9s 181us/sample - loss: 2.2920 - acc: 0.1591 - val_loss: 2.2878 - val_acc: 0.1526\n",
      "Epoch 6/10\n",
      "48000/48000 [==============================] - 9s 193us/sample - loss: 2.2829 - acc: 0.1791 - val_loss: 2.2770 - val_acc: 0.1898\n",
      "Epoch 7/10\n",
      "48000/48000 [==============================] - 9s 179us/sample - loss: 2.2711 - acc: 0.2005 - val_loss: 2.2639 - val_acc: 0.1912\n",
      "Epoch 8/10\n",
      "48000/48000 [==============================] - 8s 164us/sample - loss: 2.2569 - acc: 0.1842 - val_loss: 2.2486 - val_acc: 0.1853\n",
      "Epoch 9/10\n",
      "48000/48000 [==============================] - 7s 147us/sample - loss: 2.2408 - acc: 0.1939 - val_loss: 2.2312 - val_acc: 0.1894\n",
      "Epoch 10/10\n",
      "48000/48000 [==============================] - 7s 150us/sample - loss: 2.2228 - acc: 0.1995 - val_loss: 2.2155 - val_acc: 0.1746\n"
     ]
    }
   ],
   "source": [
    "# Camadas do modelo\n",
    "# modelo sequencial\n",
    "#     entrada\n",
    "#     processamento\n",
    "#     saida\n",
    "\n",
    "# NORMALIZAÇÃO DAS IMAGENS\n",
    "# Dimunindo o processamento de pixels de 255 para 0 a 1. A rede não precisa processar 255 pixels e sim de 0 a 1 \n",
    "# com suas diferença, ou seja, 0.10, 0.30,1, etc\n",
    "imagens_treino = imagens_treino / float(255)\n",
    "\n",
    "# Definindo um modelo sequencial, onde temos a entrada, processamento e saida dos dados\n",
    "modelo = keras.Sequential([\n",
    "#   Camanda de entrada\n",
    "#   Na priemira camada, vamos pegar as imagens de 28x28 e achatar para um unico array de 784(28x28) posições\n",
    "    keras.layers.Flatten(input_shape = (28,28)),\n",
    "#   CAMADAS OCULTAS, porque não é possivel saber o que esta acontencendo para realizar o agrupamento \n",
    "#   dos neuronios.\n",
    "#   Camada de processamento\n",
    "#   Criando 256 camandas \"bolinhas\" que vão ser densar e comunicar com a camada de Flatten, ou seja\n",
    "#   a camada com a imagem em um unico array de pixels\n",
    "#   Alem de termos 256(Recomendado multiplos de 2. Temos que testar o que é melhor para o que queremos)\n",
    "#   pequenos tensores, temos dizer quando eles vão ser ativados, \n",
    "#   que é o relu, uma ativação de redes mais utilizada na comunidade\n",
    "#   reLU = Unidade linear retificada\n",
    "#   AS CAMADAS OCULTAS TEM QUE SER TESTADA PARA CHEGAR NA MENOR PERDA(LOSS)\n",
    "#   A EXECUÇÃO DA COMPILAÇÃO ARMAZENA ALGUMAS VARIAVEIS DE ESTADO DO MODELO E O JUPYTER TAMBEM ARMAZEMA\n",
    "#   O QUE FAZ COM QUE O MODELO GERE SEMPRE O MESMO RESULTADO, PARA ISSO TEMOS QUE RESTARTAR O NOTEBOOK\n",
    "    keras.layers.Dense(256, activation=tensorflow.nn.relu),\n",
    "#     keras.layers.Dense(128, activation=tensorflow.nn.relu),\n",
    "#     keras.layers.Dense(64, activation=tensorflow.nn.relu),\n",
    "#   Camada de Saida\n",
    "#   O numero da camada de saída é a quantidade de classificações que o modelo vai conter\n",
    "#   O softmax é uma função que extrai da imagem probabilidades em % de todas outras imagens \n",
    "    keras.layers.Dense(10, activation=tensorflow.nn.softmax)\n",
    "])\n",
    "\n",
    "#Compinando o modelo antes de treinar\n",
    "modelo.compile(\n",
    "    # Otimizador de treinamento da rede\n",
    "    optimizer='adam',\n",
    "    # Perda de informação da rede. Se a rede classificar um item errado, ela vai ter uma perda de informação\n",
    "    # para calcular a perda, vamos utilizar a \"entropia categorica cruzada esparsa\" \n",
    "    loss='sparse_categorical_crossentropy',\n",
    "    # Adicionando métricas para identificar o quanto o modelo esta acertando\n",
    "    metrics=['accuracy'])\n",
    "\n",
    "# Treinando um modelo\n",
    "# epoch é a quantidade de vezes que o modelo vai ser treinado\n",
    "# validation_split é a quantidade de registro que vamos usar para validar o desempenho, 0.2 = 20%\n",
    "historico = modelo.fit(imagens_treino, identificacoes_treino, epochs=10, validation_split=0.2)"
   ]
  },
  {
   "cell_type": "code",
   "execution_count": 28,
   "metadata": {},
   "outputs": [
    {
     "data": {
      "text/plain": [
       "<matplotlib.legend.Legend at 0x7f7b968956d8>"
      ]
     },
     "execution_count": 28,
     "metadata": {},
     "output_type": "execute_result"
    },
    {
     "data": {
      "image/png": "[encoded data removed]",
      "text/plain": [
       "<Figure size 432x288 with 1 Axes>"
      ]
     },
     "metadata": {
      "needs_background": "light"
     },
     "output_type": "display_data"
    }
   ],
   "source": [
    "# Salvamos o historico de treinamento do modelo para plotar um grafico com os resultados\n",
    "# PLOTANDO GRAFICO DE DESEMPENHO DO MODELO\n",
    "# Plotando dois array de dados\n",
    "plt.plot(historico.history['acc'])\n",
    "plt.plot(historico.history['val_acc'])\n",
    "# Configurando titulo do grafico\n",
    "plt.title('Acuracia por epocas')\n",
    "# label do eixo x\n",
    "plt.xlabel('epochs')\n",
    "# label do eixo y\n",
    "plt.ylabel('accuracy')\n",
    "# Adicionando legendas\n",
    "plt.legend(['treino', 'validação'])"
   ]
  },
  {
   "cell_type": "code",
   "execution_count": 29,
   "metadata": {},
   "outputs": [
    {
     "data": {
      "text/plain": [
       "<matplotlib.legend.Legend at 0x7f7b95807e48>"
      ]
     },
     "execution_count": 29,
     "metadata": {},
     "output_type": "execute_result"
    },
    {
     "data": {
      "image/png": "[encoded data removed]",
      "text/plain": [
       "<Figure size 432x288 with 1 Axes>"
      ]
     },
     "metadata": {
      "needs_background": "light"
     },
     "output_type": "display_data"
    }
   ],
   "source": [
    "# PLOTANDO GRAFICO DE PERDA DO MODELO\n",
    "# Plotando dois array de dados\n",
    "plt.plot(historico.history['loss'])\n",
    "plt.plot(historico.history['val_loss'])\n",
    "# Configurando titulo do grafico\n",
    "plt.title('Perda por epocas')\n",
    "# label do eixo x\n",
    "plt.xlabel('epochs')\n",
    "# label do eixo y\n",
    "plt.ylabel('loss')\n",
    "# Adicionando legendas\n",
    "plt.legend(['treino', 'validação'])"
   ]
  },
  {
   "cell_type": "markdown",
   "metadata": {},
   "source": [
    "### Exemplo de comunicação das camandas feita pela camada Dense\n",
    "<img src=\"./dense.png\">"
   ]
  },
  {
   "cell_type": "markdown",
   "metadata": {},
   "source": [
    "### Exemplo do funcionamento da reLU\n",
    "<img src=\"./relu.png\">"
   ]
  },
  {
   "cell_type": "code",
   "execution_count": 12,
   "metadata": {},
   "outputs": [
    {
     "name": "stdout",
     "output_type": "stream",
     "text": [
      "Resultado teste: 1\n",
      "numero da imagem de teste: 1\n"
     ]
    }
   ],
   "source": [
    "# Realizando predições no modelo\n",
    "testes = modelo.predict(imagens_teste)\n",
    "\n",
    "print('Resultado teste:', np.argmax(testes[2]))\n",
    "print('numero da imagem de teste:', identificacoes_teste[2])"
   ]
  },
  {
   "cell_type": "code",
   "execution_count": 13,
   "metadata": {},
   "outputs": [
    {
     "name": "stdout",
     "output_type": "stream",
     "text": [
      "10000/10000 [==============================] - 1s 51us/sample - loss: 2.2918 - acc: 0.8555\n",
      "Perda do teste: 2.291771818542479\n",
      "Acuracia do teste: 0.8555\n"
     ]
    }
   ],
   "source": [
    "# Avaliar o desempenho do modelo\n",
    "# O evaluate retornaum array com 2 posição onde a primeira é a perda do array e a segunda a acuracia\n",
    "perda_teste, acuracia_teste = modelo.evaluate(imagens_teste, identificacoes_teste)\n",
    "print('Perda do teste:', perda_teste)\n",
    "print('Acuracia do teste:', acuracia_teste)"
   ]
  },
  {
   "cell_type": "code",
   "execution_count": null,
   "metadata": {},
   "outputs": [],
   "source": []
  }
 ],
 "metadata": {
  "kernelspec": {
   "display_name": "Python 3",
   "language": "python",
   "name": "python3"
  },
  "language_info": {
   "codemirror_mode": {
    "name": "ipython",
    "version": 3
   },
   "file_extension": ".py",
   "mimetype": "text/x-python",
   "name": "python",
   "nbconvert_exporter": "python",
   "pygments_lexer": "ipython3",
   "version": "3.7.3"
  }
 },
 "nbformat": 4,
 "nbformat_minor": 2
}
